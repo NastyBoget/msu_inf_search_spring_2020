{
 "cells": [
  {
   "cell_type": "code",
   "execution_count": 1,
   "metadata": {
    "pycharm": {
     "is_executing": false
    }
   },
   "outputs": [],
   "source": [
    "import numpy as np\n",
    "from utils import load_obj, save_obj, TextFormatter\n",
    "from classifier.features import FeatureGenerator\n",
    "from random import randint"
   ]
  },
  {
   "cell_type": "code",
   "execution_count": 2,
   "metadata": {
    "pycharm": {
     "is_executing": false
    }
   },
   "outputs": [],
   "source": [
    "lm = load_obj(\"LanguageModel\")"
   ]
  },
  {
   "cell_type": "code",
   "execution_count": 3,
   "metadata": {
    "pycharm": {
     "is_executing": false
    }
   },
   "outputs": [],
   "source": [
    "def get_formatted_text(text):\n",
    "    textFormatter = TextFormatter(text)\n",
    "    words = textFormatter.get_query_list()\n",
    "    query = textFormatter.text\n",
    "    return query, words"
   ]
  },
  {
   "cell_type": "code",
   "execution_count": 4,
   "metadata": {
    "pycharm": {
     "is_executing": false
    }
   },
   "outputs": [],
   "source": [
    "X = []\n",
    "y = []\n",
    "fg = FeatureGenerator(lm)\n",
    "i = 0\n",
    "with open(\"queries_all.txt\") as f:\n",
    "    lines = f.readlines()\n",
    "\n",
    "for line in lines:\n",
    "    if randint(1, 100) < 97:\n",
    "        continue\n",
    "        \n",
    "    queries = line.split('\\t')\n",
    "    \n",
    "    if len(queries) == 2:\n",
    "        y.append(0)\n",
    "        query, words = get_formatted_text(queries[0])\n",
    "        X.append(fg.generate_features(query, words))\n",
    "        \n",
    "        y.append(1)\n",
    "        query, words = get_formatted_text(queries[1])\n",
    "        X.append(fg.generate_features(query, words))\n",
    "        \n",
    "    else:\n",
    "        y.append(1)\n",
    "        query, words = get_formatted_text(queries[0])\n",
    "        X.append(fg.generate_features(query, words))"
   ]
  },
  {
   "cell_type": "code",
   "execution_count": 5,
   "metadata": {
    "pycharm": {
     "is_executing": false
    }
   },
   "outputs": [
    {
     "data": {
      "text/plain": "(84706, 84706)"
     },
     "metadata": {},
     "output_type": "execute_result",
     "execution_count": 5
    }
   ],
   "source": [
    "len(y), len(X)"
   ]
  },
  {
   "cell_type": "code",
   "execution_count": 6,
   "metadata": {
    "pycharm": {
     "is_executing": false
    }
   },
   "outputs": [],
   "source": [
    "X = np.asarray(X)\n",
    "y = np.asarray(y)"
   ]
  },
  {
   "cell_type": "code",
   "execution_count": 7,
   "metadata": {
    "pycharm": {
     "is_executing": false
    }
   },
   "outputs": [],
   "source": [
    "from sklearn.ensemble import GradientBoostingClassifier\n",
    "from sklearn.model_selection import KFold\n",
    "from sklearn.metrics import f1_score, accuracy_score"
   ]
  },
  {
   "cell_type": "code",
   "execution_count": 8,
   "metadata": {
    "pycharm": {
     "is_executing": false
    }
   },
   "outputs": [
    {
     "name": "stdout",
     "text": [
      "0.832405491598253\n",
      "0.9844521091000871\n"
     ],
     "output_type": "stream"
    }
   ],
   "source": [
    "f1 = []\n",
    "acc = []\n",
    "kf = KFold(n_splits=4, shuffle=True)\n",
    "for train_index, test_index in kf.split(X):\n",
    "    y_train, y_test = y[train_index], y[test_index]\n",
    "    X_train, X_test = X[train_index], X[test_index]\n",
    "    \n",
    "    gb = GradientBoostingClassifier(n_estimators=200, max_depth=5, loss='exponential')\n",
    "    gb.fit(X_train, y_train)\n",
    "    \n",
    "    y_pred = gb.predict(X_test)\n",
    "    f1.append(f1_score(y_test, y_pred, pos_label=0))\n",
    "    acc.append(accuracy_score(y_test, y_pred))\n",
    "    \n",
    "print(sum(f1)/len(f1))\n",
    "print(sum(acc)/len(acc))"
   ]
  },
  {
   "cell_type": "code",
   "execution_count": 9,
   "metadata": {
    "pycharm": {
     "name": "#%%\n",
     "is_executing": false
    }
   },
   "outputs": [],
   "source": [
    "save_obj(gb, \"Classifier\")"
   ]
  }
 ],
 "metadata": {
  "kernelspec": {
   "name": "pycharm-68123b6a",
   "language": "python",
   "display_name": "PyCharm (SpellChecker)"
  },
  "language_info": {
   "codemirror_mode": {
    "name": "ipython",
    "version": 3
   },
   "file_extension": ".py",
   "mimetype": "text/x-python",
   "name": "python",
   "nbconvert_exporter": "python",
   "pygments_lexer": "ipython3",
   "version": "3.7.6"
  },
  "pycharm": {
   "stem_cell": {
    "cell_type": "raw",
    "source": [],
    "metadata": {
     "collapsed": false
    }
   }
  }
 },
 "nbformat": 4,
 "nbformat_minor": 1
}