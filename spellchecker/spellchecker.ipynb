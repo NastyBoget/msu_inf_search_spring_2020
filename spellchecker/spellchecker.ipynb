{
 "cells": [
  {
   "cell_type": "markdown",
   "metadata": {},
   "source": [
    "### Расстояние Левенштейна\n",
    "\n",
    "<img src ='https://wikimedia.org/api/rest_v1/media/math/render/svg/bb9db0430ed76b6826156bbafc02d1d0183eec8c'/>\n",
    "\n",
    "m(a, b) = 0 если a = b и = 1 иначе\n",
    "\n",
    "#### Алгоритм\n",
    "\n",
    "для всех i от 0 до M\n",
    "\n",
    "   для всех j от 0 до N\n",
    "   \n",
    "     вычислить D(i, j)\n",
    "     \n",
    " вернуть D(M, N)"
   ]
  },
  {
   "cell_type": "code",
   "execution_count": 25,
   "metadata": {},
   "outputs": [],
   "source": [
    "import numpy as np\n",
    "from nltk import ngrams"
   ]
  },
  {
   "cell_type": "code",
   "execution_count": 2,
   "metadata": {},
   "outputs": [],
   "source": [
    "def levenshtein_distance(str1, str2):\n",
    "    m, n = len(str1), len(str2)\n",
    "    d1 = np.arange(m + 1)[np.newaxis]\n",
    "    d2 = np.arange(1, n + 1)[:, np.newaxis]\n",
    "    d3 = np.zeros((n, m))\n",
    "    d = np.vstack((d1, np.hstack((d2, d3))))\n",
    "    for i in range(m):\n",
    "        for j in range(n):\n",
    "            d[j + 1, i + 1] = np.min([d[j, i + 1] + 1, d[j + 1, i] + 1, d[j, i] + int(str1[i] != str2[j])])\n",
    "    return d # [n, m]"
   ]
  },
  {
   "cell_type": "code",
   "execution_count": 45,
   "metadata": {},
   "outputs": [],
   "source": [
    "matrix = levenshtein_distance('Saturday', 'Sunday')"
   ]
  },
  {
   "cell_type": "code",
   "execution_count": 46,
   "metadata": {},
   "outputs": [
    {
     "data": {
      "text/plain": [
       "array([[0., 1., 2., 3., 4., 5., 6., 7., 8.],\n",
       "       [1., 0., 1., 2., 3., 4., 5., 6., 7.],\n",
       "       [2., 1., 1., 2., 2., 3., 4., 5., 6.],\n",
       "       [3., 2., 2., 2., 3., 3., 4., 5., 6.],\n",
       "       [4., 3., 3., 3., 3., 4., 3., 4., 5.],\n",
       "       [5., 4., 3., 4., 4., 4., 4., 3., 4.],\n",
       "       [6., 5., 4., 4., 5., 5., 5., 4., 3.]])"
      ]
     },
     "execution_count": 46,
     "metadata": {},
     "output_type": "execute_result"
    }
   ],
   "source": [
    "matrix"
   ]
  },
  {
   "cell_type": "code",
   "execution_count": 50,
   "metadata": {},
   "outputs": [],
   "source": [
    "x, y = len('Sunday'), len('Saturday') "
   ]
  },
  {
   "cell_type": "code",
   "execution_count": 51,
   "metadata": {},
   "outputs": [
    {
     "data": {
      "text/plain": [
       "2"
      ]
     },
     "execution_count": 51,
     "metadata": {},
     "output_type": "execute_result"
    }
   ],
   "source": [
    "np.argmin([matrix[x - 1, y], matrix[x, y - 1], matrix[x - 1, y - 1]])"
   ]
  },
  {
   "cell_type": "code",
   "execution_count": 10,
   "metadata": {},
   "outputs": [
    {
     "data": {
      "text/plain": [
       "3.0"
      ]
     },
     "execution_count": 10,
     "metadata": {},
     "output_type": "execute_result"
    }
   ],
   "source": [
    "matrix[x-1, y-1]"
   ]
  },
  {
   "cell_type": "code",
   "execution_count": 54,
   "metadata": {},
   "outputs": [
    {
     "data": {
      "text/plain": [
       "('^mmuumm_', '^mmaammmm_')"
      ]
     },
     "execution_count": 54,
     "metadata": {},
     "output_type": "execute_result"
    }
   ],
   "source": [
    "str1 = 'mum'\n",
    "str2 = 'mamm'\n",
    "str1 = \"\".join(list(map(lambda x: \"\".join(x), ngrams('^' + str1 + '_', 2))))\n",
    "str2 = \"\".join(list(map(lambda x: \"\".join(x), ngrams('^' + str2 + '_', 2))))\n",
    "str1, str2"
   ]
  },
  {
   "cell_type": "code",
   "execution_count": 55,
   "metadata": {},
   "outputs": [
    {
     "name": "stdout",
     "output_type": "stream",
     "text": [
      "[[ 0.  1.  2.  3.  4.  5.  6.  7.  8.]\n",
      " [ 1.  0.  1.  2.  3.  4.  5.  6.  7.]\n",
      " [ 2.  1.  0.  1.  2.  3.  4.  5.  6.]\n",
      " [ 3.  2.  1.  0.  1.  2.  3.  4.  5.]\n",
      " [ 4.  3.  2.  1.  1.  2.  3.  4.  5.]\n",
      " [ 5.  4.  3.  2.  2.  2.  3.  4.  5.]\n",
      " [ 6.  5.  4.  3.  3.  3.  2.  3.  4.]\n",
      " [ 7.  6.  5.  4.  4.  4.  3.  2.  3.]\n",
      " [ 8.  7.  6.  5.  5.  5.  4.  3.  3.]\n",
      " [ 9.  8.  7.  6.  6.  6.  5.  4.  4.]\n",
      " [10.  9.  8.  7.  7.  7.  6.  5.  4.]]\n"
     ]
    }
   ],
   "source": [
    "print(levenshtein_distance(str1, str2))"
   ]
  },
  {
   "cell_type": "code",
   "execution_count": 57,
   "metadata": {},
   "outputs": [
    {
     "data": {
      "text/plain": [
       "[1, 0]"
      ]
     },
     "execution_count": 57,
     "metadata": {},
     "output_type": "execute_result"
    }
   ],
   "source": [
    "list(range(1, -1, -1))"
   ]
  },
  {
   "cell_type": "code",
   "execution_count": 116,
   "metadata": {},
   "outputs": [
    {
     "data": {
      "text/plain": [
       "('^aauummddaayy_', '^ssuunnddaayy_')"
      ]
     },
     "execution_count": 116,
     "metadata": {},
     "output_type": "execute_result"
    }
   ],
   "source": [
    "str1 = 'aumday'\n",
    "str2 = 'sunday'\n",
    "right = \"\".join(list(map(lambda x: \"\".join(x), ngrams('^' + str1 + '_', 2))))\n",
    "wrong = \"\".join(list(map(lambda x: \"\".join(x), ngrams('^' + str2 + '_', 2))))\n",
    "right, wrong"
   ]
  },
  {
   "cell_type": "code",
   "execution_count": 117,
   "metadata": {},
   "outputs": [],
   "source": [
    "matrix = levenshtein_distance(right, wrong)"
   ]
  },
  {
   "cell_type": "code",
   "execution_count": 118,
   "metadata": {},
   "outputs": [],
   "source": [
    "from collections import defaultdict\n",
    "d = defaultdict(int)"
   ]
  },
  {
   "cell_type": "code",
   "execution_count": 119,
   "metadata": {},
   "outputs": [],
   "source": [
    "x, y = len(wrong), len(right)\n",
    "while x not in [0, 1] and y not in [0, 1]:\n",
    "    right_bigram, wrong_bigram = np.array((2, 0), dtype=str), np.array((2, 0), dtype=str)\n",
    "    for i in range(1, -1, -1):  # we have even amount of characters\n",
    "        paths = np.array([matrix[x - 1, y], matrix[x, y - 1], matrix[x - 1, y - 1]])\n",
    "        # states: 0, 1, 2\n",
    "        next_pos = np.argmin(paths)\n",
    "        if matrix[x, y] == paths[next_pos]:  # there is no error\n",
    "            right_bigram[i] = right[y - 1]\n",
    "            wrong_bigram[i] = wrong[x - 1]\n",
    "            if next_pos == 0:\n",
    "                x -= 1\n",
    "            elif next_pos == 1:\n",
    "                y -= 1\n",
    "            elif next_pos == 2:\n",
    "                x -= 1\n",
    "                y -= 1\n",
    "            continue\n",
    "        # delete\n",
    "        if next_pos == 0:\n",
    "            right_bigram[i] = '~'\n",
    "            wrong_bigram[i] = wrong[x - 1]\n",
    "            x -= 1\n",
    "        # add\n",
    "        elif next_pos == 1:\n",
    "            right_bigram[i] = right[y - 1]\n",
    "            wrong_bigram[i] = '~'\n",
    "            y -= 1\n",
    "        # change\n",
    "        elif next_pos == 2:\n",
    "            right_bigram[i] = right[y - 1]\n",
    "            wrong_bigram[i] = wrong[x - 1]\n",
    "            x -= 1\n",
    "            y -= 1\n",
    "    if x % 2 != 0:\n",
    "        x -= 1\n",
    "    if y % 2 != 0:\n",
    "        y -= 1\n",
    "    right_bigram = right_bigram[0] + right_bigram[1]\n",
    "    wrong_bigram = wrong_bigram[0] + wrong_bigram[1]\n",
    "    d[(right_bigram, wrong_bigram)] += 1"
   ]
  },
  {
   "cell_type": "code",
   "execution_count": 120,
   "metadata": {},
   "outputs": [
    {
     "data": {
      "text/plain": [
       "defaultdict(int,\n",
       "            {('y_', 'y_'): 1,\n",
       "             ('ay', 'ay'): 1,\n",
       "             ('da', 'da'): 1,\n",
       "             ('md', 'nd'): 1,\n",
       "             ('um', 'un'): 1,\n",
       "             ('au', 'su'): 1,\n",
       "             ('^a', '^s'): 1})"
      ]
     },
     "execution_count": 120,
     "metadata": {},
     "output_type": "execute_result"
    }
   ],
   "source": [
    "d"
   ]
  },
  {
   "cell_type": "code",
   "execution_count": 69,
   "metadata": {},
   "outputs": [],
   "source": [
    "a = np.array((2, 0), dtype=str)\n",
    "a[0] = 's'\n",
    "a[1] = 'a'"
   ]
  },
  {
   "cell_type": "code",
   "execution_count": 71,
   "metadata": {},
   "outputs": [
    {
     "data": {
      "text/plain": [
       "'sa'"
      ]
     },
     "execution_count": 71,
     "metadata": {},
     "output_type": "execute_result"
    }
   ],
   "source": [
    "a[0] + a[1]"
   ]
  },
  {
   "cell_type": "code",
   "execution_count": 60,
   "metadata": {},
   "outputs": [],
   "source": [
    "import pandas as pd"
   ]
  },
  {
   "cell_type": "code",
   "execution_count": 75,
   "metadata": {},
   "outputs": [],
   "source": [
    "df = pd.read_csv('queries_all.txt', sep='\\t',  header=None)"
   ]
  },
  {
   "cell_type": "code",
   "execution_count": 78,
   "metadata": {},
   "outputs": [
    {
     "data": {
      "text/html": [
       "<div>\n",
       "<style scoped>\n",
       "    .dataframe tbody tr th:only-of-type {\n",
       "        vertical-align: middle;\n",
       "    }\n",
       "\n",
       "    .dataframe tbody tr th {\n",
       "        vertical-align: top;\n",
       "    }\n",
       "\n",
       "    .dataframe thead th {\n",
       "        text-align: right;\n",
       "    }\n",
       "</style>\n",
       "<table border=\"1\" class=\"dataframe\">\n",
       "  <thead>\n",
       "    <tr style=\"text-align: right;\">\n",
       "      <th></th>\n",
       "      <th>0</th>\n",
       "    </tr>\n",
       "  </thead>\n",
       "  <tbody>\n",
       "    <tr>\n",
       "      <th>0</th>\n",
       "      <td>видео секса смотреть бесплатно</td>\n",
       "    </tr>\n",
       "    <tr>\n",
       "      <th>1</th>\n",
       "      <td>шоплифтеры казань</td>\n",
       "    </tr>\n",
       "    <tr>\n",
       "      <th>2</th>\n",
       "      <td>платья 2016 фото новинки</td>\n",
       "    </tr>\n",
       "    <tr>\n",
       "      <th>3</th>\n",
       "      <td>вк</td>\n",
       "    </tr>\n",
       "    <tr>\n",
       "      <th>4</th>\n",
       "      <td>александр липовой</td>\n",
       "    </tr>\n",
       "  </tbody>\n",
       "</table>\n",
       "</div>"
      ],
      "text/plain": [
       "                                0\n",
       "0  видео секса смотреть бесплатно\n",
       "1               шоплифтеры казань\n",
       "2        платья 2016 фото новинки\n",
       "3                              вк\n",
       "4               александр липовой"
      ]
     },
     "execution_count": 78,
     "metadata": {},
     "output_type": "execute_result"
    }
   ],
   "source": [
    "df.head()"
   ]
  },
  {
   "cell_type": "code",
   "execution_count": 79,
   "metadata": {},
   "outputs": [
    {
     "name": "stdout",
     "output_type": "stream",
     "text": [
      "<class 'pandas.core.frame.DataFrame'>\n",
      "RangeIndex: 1991771 entries, 0 to 1991770\n",
      "Data columns (total 1 columns):\n",
      " #   Column  Dtype \n",
      "---  ------  ----- \n",
      " 0   0       object\n",
      "dtypes: object(1)\n",
      "memory usage: 15.2+ MB\n"
     ]
    }
   ],
   "source": [
    "df.info()"
   ]
  },
  {
   "cell_type": "code",
   "execution_count": 98,
   "metadata": {},
   "outputs": [
    {
     "data": {
      "text/plain": [
       "118"
      ]
     },
     "execution_count": 98,
     "metadata": {},
     "output_type": "execute_result"
    }
   ],
   "source": [
    "len(set('ABCDEFGHIJKLMNOPQRSTUVWXYZ'\n",
    "        'abcdefghijklmnopqrstuvwxyz'\n",
    "        'АБВГДЕЁЖЗИЙКЛМНОПРСТУФХЦЧШЩЬЫЪЭЮЯ'\n",
    "        'абвгдеёжзийклмнопрстуфхцчшщьыъэюя'))"
   ]
  },
  {
   "cell_type": "code",
   "execution_count": 100,
   "metadata": {},
   "outputs": [],
   "source": [
    "def split(line):\n",
    "    split_line = []\n",
    "    letters = set('ABCDEFGHIJKLMNOPQRSTUVWXYZ'\n",
    "                  'abcdefghijklmnopqrstuvwxyz'\n",
    "                  'АБВГДЕЁЖЗИЙКЛМНОПРСТУФХЦЧШЩЬЫЪЭЮЯ'\n",
    "                  'абвгдеёжзийклмнопрстуфхцчшщьыъэюя')\n",
    "\n",
    "    if not line:\n",
    "        return split_line\n",
    "\n",
    "    line = line.lower()\n",
    "\n",
    "    # word consists of letters\n",
    "    word = ''\n",
    "    for c in line:\n",
    "        if c in letters:\n",
    "            word += c\n",
    "        else:\n",
    "            if word:\n",
    "                split_line.append(word)\n",
    "                word = ''\n",
    "    return split_line"
   ]
  },
  {
   "cell_type": "code",
   "execution_count": 102,
   "metadata": {},
   "outputs": [
    {
     "data": {
      "text/plain": [
       "['enrique', 'iglesias', 'duele', 'el', 'corazon', 'скачать']"
      ]
     },
     "execution_count": 102,
     "metadata": {},
     "output_type": "execute_result"
    }
   ],
   "source": [
    "split('enrique iglesias duele el corazon скачать бесплатно')"
   ]
  },
  {
   "cell_type": "code",
   "execution_count": 106,
   "metadata": {},
   "outputs": [
    {
     "name": "stdout",
     "output_type": "stream",
     "text": [
      "yes\n"
     ]
    }
   ],
   "source": [
    "for line in df.values:\n",
    "    if '\\t' in line[0]:\n",
    "        print('yes')\n",
    "        break"
   ]
  },
  {
   "cell_type": "code",
   "execution_count": 107,
   "metadata": {},
   "outputs": [],
   "source": [
    "line = 'enrique iglesias duele el corazon скачать бесплатно'"
   ]
  },
  {
   "cell_type": "code",
   "execution_count": 113,
   "metadata": {},
   "outputs": [
    {
     "data": {
      "text/plain": [
       "-1"
      ]
     },
     "execution_count": 113,
     "metadata": {},
     "output_type": "execute_result"
    }
   ],
   "source": [
    "line.find('3')"
   ]
  },
  {
   "cell_type": "code",
   "execution_count": 114,
   "metadata": {},
   "outputs": [],
   "source": [
    "from collections import defaultdict"
   ]
  },
  {
   "cell_type": "code",
   "execution_count": 115,
   "metadata": {},
   "outputs": [],
   "source": [
    "d = defaultdict(float)"
   ]
  },
  {
   "cell_type": "code",
   "execution_count": 116,
   "metadata": {},
   "outputs": [],
   "source": [
    "d['d'] += 3"
   ]
  },
  {
   "cell_type": "code",
   "execution_count": 117,
   "metadata": {},
   "outputs": [],
   "source": [
    "d['s'] += 4"
   ]
  },
  {
   "cell_type": "code",
   "execution_count": 118,
   "metadata": {},
   "outputs": [
    {
     "data": {
      "text/plain": [
       "2"
      ]
     },
     "execution_count": 118,
     "metadata": {},
     "output_type": "execute_result"
    }
   ],
   "source": [
    "len(d)"
   ]
  },
  {
   "cell_type": "code",
   "execution_count": 119,
   "metadata": {},
   "outputs": [
    {
     "data": {
      "text/plain": [
       "defaultdict(float, {'d': 3.0, 's': 4.0})"
      ]
     },
     "execution_count": 119,
     "metadata": {},
     "output_type": "execute_result"
    }
   ],
   "source": [
    "d"
   ]
  },
  {
   "cell_type": "code",
   "execution_count": 123,
   "metadata": {},
   "outputs": [],
   "source": [
    "for i in d:\n",
    "    d[i] += 1"
   ]
  },
  {
   "cell_type": "code",
   "execution_count": 124,
   "metadata": {},
   "outputs": [
    {
     "data": {
      "text/plain": [
       "defaultdict(float, {'d': 4.0, 's': 5.0})"
      ]
     },
     "execution_count": 124,
     "metadata": {},
     "output_type": "execute_result"
    }
   ],
   "source": [
    "d"
   ]
  },
  {
   "cell_type": "code",
   "execution_count": 125,
   "metadata": {},
   "outputs": [
    {
     "data": {
      "text/plain": [
       "defaultdict(float, {'d': 0.6666666666666666, 's': 5.0})"
      ]
     },
     "execution_count": 125,
     "metadata": {},
     "output_type": "execute_result"
    }
   ],
   "source": [
    "d['d'] /= 3 * 2\n",
    "d"
   ]
  },
  {
   "cell_type": "code",
   "execution_count": null,
   "metadata": {},
   "outputs": [],
   "source": []
  }
 ],
 "metadata": {
  "kernelspec": {
   "display_name": "Python 3",
   "language": "python",
   "name": "python3"
  },
  "language_info": {
   "codemirror_mode": {
    "name": "ipython",
    "version": 3
   },
   "file_extension": ".py",
   "mimetype": "text/x-python",
   "name": "python",
   "nbconvert_exporter": "python",
   "pygments_lexer": "ipython3",
   "version": "3.7.6"
  }
 },
 "nbformat": 4,
 "nbformat_minor": 4
}
