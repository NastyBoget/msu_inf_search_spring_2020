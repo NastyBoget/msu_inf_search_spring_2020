{
 "cells": [
  {
   "cell_type": "code",
   "execution_count": 61,
   "metadata": {},
   "outputs": [],
   "source": [
    "import numpy as np\n",
    "import pandas as pd\n",
    "from bs4 import BeautifulSoup\n",
    "import bs4\n",
    "import re\n",
    "from multiprocessing import Pool, Lock, Value\n",
    "from time import sleep\n",
    "import os"
   ]
  },
  {
   "cell_type": "code",
   "execution_count": 6,
   "metadata": {},
   "outputs": [],
   "source": [
    "queries = pd.read_csv('text-relevance-competition-ir-1-ts-spring-2020/queries.numerate.txt', sep='\t', header=None)\n",
    "urls = pd.read_csv('text-relevance-competition-ir-1-ts-spring-2020/urls.numerate.txt', sep='\t', header=None)\n",
    "urls.index = urls[1]"
   ]
  },
  {
   "cell_type": "code",
   "execution_count": 116,
   "metadata": {},
   "outputs": [
    {
     "data": {
      "text/plain": [
       "'povarito.ru/1403-manty-s-tykvoiy-poshagovyiy-foto-recept.html'"
      ]
     },
     "execution_count": 116,
     "metadata": {},
     "output_type": "execute_result"
    }
   ],
   "source": [
    "doc0 = open('text-relevance-competition-ir-1-ts-spring-2020/content/20170702/doc.0000.dat')\n",
    "\n",
    "html = ' '.join(list(doc0))"
   ]
  },
  {
   "cell_type": "code",
   "execution_count": 80,
   "metadata": {},
   "outputs": [
    {
     "data": {
      "text/plain": [
       "['20170726/doc.5045.dat',\n",
       " '20170726/doc.5046.dat',\n",
       " '20170726/doc.5047.dat',\n",
       " '20170726/doc.5048.dat',\n",
       " '20170726/doc.5049.dat']"
      ]
     },
     "execution_count": 80,
     "metadata": {},
     "output_type": "execute_result"
    }
   ],
   "source": [
    "docnames = []\n",
    "\n",
    "for d in listdir:\n",
    "    listdocs = os.listdir('text-relevance-competition-ir-1-ts-spring-2020/content/' + d)\n",
    "    try:\n",
    "        listdocs.remove('.DS_Store')\n",
    "    except ValueError:\n",
    "        pass\n",
    "    listdocs.sort()\n",
    "    docnames += list(map(lambda x: d + '/' + x, listdocs))\n",
    "docnames[-5:]"
   ]
  },
  {
   "cell_type": "code",
   "execution_count": 117,
   "metadata": {},
   "outputs": [],
   "source": [
    "def doc2words(docname):\n",
    "    with open('text-relevance-competition-ir-1-ts-spring-2020/content/' + docname, errors='ignore') as read_file:\n",
    "        html = ' '.join(list(read_file))\n",
    "    soup = BeautifulSoup(html)\n",
    "    url = re.sub(\"http://\", \"\", soup.body.p.text.split()[0])\n",
    "    doc_id = urls.at[url, 0]\n",
    "    if soup.text:\n",
    "        text = re.sub(r'[^A-Za-zА-Яа-я\\.\\-]+', ' ', soup.text).split()\n",
    "    else:\n",
    "        text = []\n",
    "    if soup.title:\n",
    "        if soup.title.text:\n",
    "            title = re.sub(r'[^A-Za-zА-Яа-я\\.\\-]+', ' ', soup.title.text).split()\n",
    "        else:\n",
    "            title = []\n",
    "    else:\n",
    "        title = []\n",
    "\n",
    "    return (title + text, doc_id)"
   ]
  },
  {
   "cell_type": "code",
   "execution_count": null,
   "metadata": {},
   "outputs": [
    {
     "name": "stdout",
     "output_type": "stream",
     "text": [
      "9170 objects are processed..."
     ]
    }
   ],
   "source": [
    "mutex = Lock()\n",
    "n_processed = Value('i', 0)\n",
    "\n",
    "def func_wrapper(docname):\n",
    "    res = doc2words(docname) \n",
    "    with mutex:\n",
    "        # в этом блоке можно безопасно менять общие объекты для процессов\n",
    "        global n_processed\n",
    "        n_processed.value += 1\n",
    "        if n_processed.value % 10 == 0:\n",
    "            print(f\"\\r{n_processed.value} objects are processed...\", end='', flush=True)\n",
    "    return res\n",
    "\n",
    "with Pool(processes=10) as pool:\n",
    "    docs = pool.map(func_wrapper, docnames)"
   ]
  },
  {
   "cell_type": "code",
   "execution_count": null,
   "metadata": {},
   "outputs": [],
   "source": [
    "doc_text = list(map(lambda x: x[0], docs))\n",
    "doc_id = list(map(lambda x: x[1], docs))\n",
    "\n",
    "doc_df = {id: docs_id, text: docs}\n",
    "doc_df.to_csv(\"text_relevance.csv\")"
   ]
  },
  {
   "cell_type": "markdown",
   "metadata": {},
   "source": [
    "### tf-idf"
   ]
  },
  {
   "cell_type": "code",
   "execution_count": null,
   "metadata": {},
   "outputs": [],
   "source": []
  }
 ],
 "metadata": {
  "kernelspec": {
   "display_name": "Python 3",
   "language": "python",
   "name": "python3"
  },
  "language_info": {
   "codemirror_mode": {
    "name": "ipython",
    "version": 3
   },
   "file_extension": ".py",
   "mimetype": "text/x-python",
   "name": "python",
   "nbconvert_exporter": "python",
   "pygments_lexer": "ipython3",
   "version": "3.7.6"
  }
 },
 "nbformat": 4,
 "nbformat_minor": 4
}
