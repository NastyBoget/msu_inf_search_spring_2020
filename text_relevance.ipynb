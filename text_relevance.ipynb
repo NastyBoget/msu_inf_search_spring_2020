{
 "cells": [
  {
   "cell_type": "code",
   "execution_count": 1,
   "metadata": {},
   "outputs": [],
   "source": [
    "import numpy as np\n",
    "import pandas as pd\n",
    "from bs4 import BeautifulSoup\n",
    "import bs4\n",
    "import re\n",
    "from multiprocessing import Pool, Lock, Value\n",
    "from time import sleep\n",
    "import os\n",
    "import nltk\n",
    "from nltk.corpus import stopwords \n",
    "from nltk.tokenize import word_tokenize \n",
    "from nltk.stem.snowball import SnowballStemmer \n",
    "import json\n",
    "from tqdm import tqdm"
   ]
  },
  {
   "cell_type": "code",
   "execution_count": 2,
   "metadata": {},
   "outputs": [],
   "source": [
    "queries = pd.read_csv('queries.numerate.txt', sep='\t', header=None)\n",
    "urls = pd.read_csv('urls.numerate.txt', sep='\t', header=None)\n",
    "samples = pd.read_csv('sample.technosphere.ir1.textrelevance.submission.txt')\n",
    "urls.index = urls[1]"
   ]
  },
  {
   "cell_type": "code",
   "execution_count": 3,
   "metadata": {},
   "outputs": [],
   "source": [
    "docid_df = pd.read_csv('docids.txt')"
   ]
  },
  {
   "cell_type": "code",
   "execution_count": 4,
   "metadata": {},
   "outputs": [],
   "source": [
    "docid_df.index = docid_df['DocumentId']"
   ]
  },
  {
   "cell_type": "code",
   "execution_count": 5,
   "metadata": {},
   "outputs": [],
   "source": [
    "docid_df = docid_df.drop(columns=['DocumentId', 'DocumentId.1'])"
   ]
  },
  {
   "cell_type": "code",
   "execution_count": 33,
   "metadata": {},
   "outputs": [
    {
     "data": {
      "text/html": [
       "<div>\n",
       "<style scoped>\n",
       "    .dataframe tbody tr th:only-of-type {\n",
       "        vertical-align: middle;\n",
       "    }\n",
       "\n",
       "    .dataframe tbody tr th {\n",
       "        vertical-align: top;\n",
       "    }\n",
       "\n",
       "    .dataframe thead th {\n",
       "        text-align: right;\n",
       "    }\n",
       "</style>\n",
       "<table border=\"1\" class=\"dataframe\">\n",
       "  <thead>\n",
       "    <tr style=\"text-align: right;\">\n",
       "      <th></th>\n",
       "      <th>DocumentName</th>\n",
       "    </tr>\n",
       "    <tr>\n",
       "      <th>DocumentId</th>\n",
       "      <th></th>\n",
       "    </tr>\n",
       "  </thead>\n",
       "  <tbody>\n",
       "    <tr>\n",
       "      <th>1</th>\n",
       "      <td>20170707/doc.2351.dat</td>\n",
       "    </tr>\n",
       "    <tr>\n",
       "      <th>2</th>\n",
       "      <td>20170707/doc.2661.dat</td>\n",
       "    </tr>\n",
       "    <tr>\n",
       "      <th>3</th>\n",
       "      <td>20170707/doc.1883.dat</td>\n",
       "    </tr>\n",
       "    <tr>\n",
       "      <th>4</th>\n",
       "      <td>20170707/doc.0713.dat</td>\n",
       "    </tr>\n",
       "    <tr>\n",
       "      <th>5</th>\n",
       "      <td>20170707/doc.0996.dat</td>\n",
       "    </tr>\n",
       "  </tbody>\n",
       "</table>\n",
       "</div>"
      ],
      "text/plain": [
       "                     DocumentName\n",
       "DocumentId                       \n",
       "1           20170707/doc.2351.dat\n",
       "2           20170707/doc.2661.dat\n",
       "3           20170707/doc.1883.dat\n",
       "4           20170707/doc.0713.dat\n",
       "5           20170707/doc.0996.dat"
      ]
     },
     "execution_count": 33,
     "metadata": {},
     "output_type": "execute_result"
    }
   ],
   "source": [
    "docid_df.head()"
   ]
  },
  {
   "cell_type": "code",
   "execution_count": 7,
   "metadata": {},
   "outputs": [
    {
     "data": {
      "text/plain": [
       "'20170707/doc.2351.dat'"
      ]
     },
     "execution_count": 7,
     "metadata": {},
     "output_type": "execute_result"
    }
   ],
   "source": [
    "docid_df.iloc[0]['DocumentName']"
   ]
  },
  {
   "cell_type": "code",
   "execution_count": 10,
   "metadata": {},
   "outputs": [
    {
     "name": "stdout",
     "output_type": "stream",
     "text": [
      "мультивиза в израиль какие страны можно посетить\n",
      "надо ли носить компресc гольфы после операции на голеностопе\n",
      "жировики на спине можно ли применить пиявки\n",
      "как прописать просто админку\n",
      "кто будет судить суперкубок 2017 між шахтар динамо который будет в одессе\n"
     ]
    }
   ],
   "source": [
    "for row_id, text in queries.head().iterrows():\n",
    "    print(text[1])"
   ]
  },
  {
   "cell_type": "code",
   "execution_count": 34,
   "metadata": {},
   "outputs": [],
   "source": [
    "def doc2words(doc_id):\n",
    "    with open('content/content/' + docid_df.iloc[doc_id - 1]['DocumentName'], errors='ignore') as read_file:\n",
    "        lines = list(read_file)\n",
    "    html = \"\".join(lines[1:])\n",
    "    soup = BeautifulSoup(html)\n",
    "    title = \"\"\n",
    "    for a in soup.find_all('a'):\n",
    "        if a.get('title'):\n",
    "            title += ' '\n",
    "            title += re.sub(r'[^A-Za-zА-Яа-я0-9]+', ' ', a['title'])\n",
    "    if soup.title:\n",
    "        if soup.title.text:\n",
    "            title += ' '\n",
    "            title += re.sub(r'[^A-Za-zА-Яа-я0-9]+', ' ', soup.title.text)\n",
    "    if soup.text:\n",
    "        title += ' '\n",
    "        title += re.sub(r'[^A-Za-zА-Яа-я0-9]+', ' ', soup.text)\n",
    "    return title"
   ]
  },
  {
   "cell_type": "markdown",
   "metadata": {},
   "source": [
    "### index + tf-idf"
   ]
  },
  {
   "cell_type": "code",
   "execution_count": 12,
   "metadata": {},
   "outputs": [],
   "source": [
    "with open('stop_words.txt', \"r\") as rf:\n",
    "    lines = [line.strip() for line in rf]\n",
    "stop_words = set(lines)"
   ]
  },
  {
   "cell_type": "markdown",
   "metadata": {},
   "source": [
    "{term1: [[doc_id1, term_freq1], [doc_id2, term_freq2], ...], term2: ...}"
   ]
  },
  {
   "cell_type": "code",
   "execution_count": 13,
   "metadata": {},
   "outputs": [],
   "source": [
    "stemmer = SnowballStemmer(\"russian\")\n",
    "\n",
    "# for id, doc in tqdm(doc_df.iterrows(), total=38114, position=0):\n",
    "def create_index(doc_id):\n",
    "    text = doc2words(doc_id)\n",
    "    loc_index = {}\n",
    "    terms = str(text).split()\n",
    "    terms = [t.lower().strip() for t in terms]\n",
    "    terms = [t for t in terms if not t in stop_words]\n",
    "    terms = [stemmer.stem(term) for term in terms]\n",
    "    for term in terms:\n",
    "        if term in loc_index.keys():\n",
    "            _, num = loc_index[term][-1]\n",
    "            loc_index[term][-1][1] += 1\n",
    "        else:\n",
    "            loc_index[term] = [[doc_id, 1]]\n",
    "            \n",
    "    # computing tf\n",
    "    for term in terms:\n",
    "        loc_index[term][-1][1] /= len(terms)\n",
    "    return loc_index"
   ]
  },
  {
   "cell_type": "markdown",
   "metadata": {},
   "source": [
    "### поисковые расширения"
   ]
  },
  {
   "cell_type": "code",
   "execution_count": 14,
   "metadata": {},
   "outputs": [],
   "source": [
    "synonims = {\n",
    "    \"применить\": [\"использовать\"],\n",
    "    \"инстаграм\": [\"instagram\"],\n",
    "    \"кап\": [\"капитальный\"],\n",
    "    \"биос\": [\"bios\"],\n",
    "    \"майнкрафт\": [\"minecraft\"],\n",
    "    \"авто\": [\"автомобиль\", \"машина\"],\n",
    "    \"гта\": [\"gta\"],\n",
    "    \"опфр\": [\"пенсионный\", \"фонд\", \"российской\", \"федерации\"],\n",
    "    \"ифнс\": [\"инспекция\", \"федеральной\", \"налоговой\", \"службы\"],\n",
    "    \"бесишь\": [\"раздражаешь\", \"злишь\", \"нервируешь\"],\n",
    "    \"вай\": [\"wi\"],\n",
    "    \"фай\": [\"fi\"],\n",
    "    \"соц\": [\"социальный\"],\n",
    "    \"вк\": [\"vk\", \"vkontakte\", \"вконтакте\"],\n",
    "    \"кс\": [\"cs\", \"counter\", \"strike\"],\n",
    "    \"дискорд\": [\"discord\"],\n",
    "    \"киви\": [\"kiwi\"],\n",
    "    \"трейнз\": [\"trainz\"],\n",
    "    \"мерседес\": [\"mercedes\"],\n",
    "    \"симс\": [\"sims\"],\n",
    "    \"биос\": [\"bios\"],\n",
    "    \"псп\": [\"playstation\" \"portable\", \"psp\"],\n",
    "    \"мод\": [\"mode\"],\n",
    "    \"одн\": [\"общедомовые\", \"нужды\"],\n",
    "    \"мегафон\": [\"megafon\"],\n",
    "    \"асти\": [\"asti\"],\n",
    "    \"пдф\": [\"pdf\"],\n",
    "    \"бмп\": [\"bmp\"], \n",
    "    \"ммр\": [\"mmr\"],\n",
    "    \"ккал\": [\"калория\"],\n",
    "    \"поу\": [\"pou\"]\n",
    "}"
   ]
  },
  {
   "cell_type": "markdown",
   "metadata": {},
   "source": [
    "### Make result"
   ]
  },
  {
   "cell_type": "code",
   "execution_count": 15,
   "metadata": {},
   "outputs": [],
   "source": [
    "QueryId = []\n",
    "\n",
    "for i in range(1, 400):\n",
    "    QueryId += [i] * 10\n",
    "    \n",
    "# size = 10 * 399"
   ]
  },
  {
   "cell_type": "code",
   "execution_count": 16,
   "metadata": {},
   "outputs": [
    {
     "data": {
      "text/html": [
       "<div>\n",
       "<style scoped>\n",
       "    .dataframe tbody tr th:only-of-type {\n",
       "        vertical-align: middle;\n",
       "    }\n",
       "\n",
       "    .dataframe tbody tr th {\n",
       "        vertical-align: top;\n",
       "    }\n",
       "\n",
       "    .dataframe thead th {\n",
       "        text-align: right;\n",
       "    }\n",
       "</style>\n",
       "<table border=\"1\" class=\"dataframe\">\n",
       "  <thead>\n",
       "    <tr style=\"text-align: right;\">\n",
       "      <th></th>\n",
       "      <th>0</th>\n",
       "      <th>1</th>\n",
       "    </tr>\n",
       "  </thead>\n",
       "  <tbody>\n",
       "    <tr>\n",
       "      <th>0</th>\n",
       "      <td>1</td>\n",
       "      <td>мультивиза в израиль какие страны можно посетить</td>\n",
       "    </tr>\n",
       "    <tr>\n",
       "      <th>1</th>\n",
       "      <td>2</td>\n",
       "      <td>надо ли носить компресc гольфы после операции ...</td>\n",
       "    </tr>\n",
       "    <tr>\n",
       "      <th>2</th>\n",
       "      <td>3</td>\n",
       "      <td>жировики на спине можно ли применить пиявки</td>\n",
       "    </tr>\n",
       "    <tr>\n",
       "      <th>3</th>\n",
       "      <td>4</td>\n",
       "      <td>как прописать просто админку</td>\n",
       "    </tr>\n",
       "    <tr>\n",
       "      <th>4</th>\n",
       "      <td>5</td>\n",
       "      <td>кто будет судить суперкубок 2017 між шахтар ди...</td>\n",
       "    </tr>\n",
       "  </tbody>\n",
       "</table>\n",
       "</div>"
      ],
      "text/plain": [
       "   0                                                  1\n",
       "0  1   мультивиза в израиль какие страны можно посетить\n",
       "1  2  надо ли носить компресc гольфы после операции ...\n",
       "2  3        жировики на спине можно ли применить пиявки\n",
       "3  4                       как прописать просто админку\n",
       "4  5  кто будет судить суперкубок 2017 між шахтар ди..."
      ]
     },
     "execution_count": 16,
     "metadata": {},
     "output_type": "execute_result"
    }
   ],
   "source": [
    "queries.head()"
   ]
  },
  {
   "cell_type": "code",
   "execution_count": 29,
   "metadata": {},
   "outputs": [
    {
     "data": {
      "text/html": [
       "<div>\n",
       "<style scoped>\n",
       "    .dataframe tbody tr th:only-of-type {\n",
       "        vertical-align: middle;\n",
       "    }\n",
       "\n",
       "    .dataframe tbody tr th {\n",
       "        vertical-align: top;\n",
       "    }\n",
       "\n",
       "    .dataframe thead th {\n",
       "        text-align: right;\n",
       "    }\n",
       "</style>\n",
       "<table border=\"1\" class=\"dataframe\">\n",
       "  <thead>\n",
       "    <tr style=\"text-align: right;\">\n",
       "      <th></th>\n",
       "      <th>QueryId</th>\n",
       "      <th>DocumentId</th>\n",
       "    </tr>\n",
       "  </thead>\n",
       "  <tbody>\n",
       "    <tr>\n",
       "      <th>38767</th>\n",
       "      <td>399</td>\n",
       "      <td>38110</td>\n",
       "    </tr>\n",
       "    <tr>\n",
       "      <th>38768</th>\n",
       "      <td>399</td>\n",
       "      <td>38111</td>\n",
       "    </tr>\n",
       "    <tr>\n",
       "      <th>38769</th>\n",
       "      <td>399</td>\n",
       "      <td>38112</td>\n",
       "    </tr>\n",
       "    <tr>\n",
       "      <th>38770</th>\n",
       "      <td>399</td>\n",
       "      <td>38113</td>\n",
       "    </tr>\n",
       "    <tr>\n",
       "      <th>38771</th>\n",
       "      <td>399</td>\n",
       "      <td>38114</td>\n",
       "    </tr>\n",
       "  </tbody>\n",
       "</table>\n",
       "</div>"
      ],
      "text/plain": [
       "       QueryId  DocumentId\n",
       "38767      399       38110\n",
       "38768      399       38111\n",
       "38769      399       38112\n",
       "38770      399       38113\n",
       "38771      399       38114"
      ]
     },
     "execution_count": 29,
     "metadata": {},
     "output_type": "execute_result"
    }
   ],
   "source": [
    "samples.tail()"
   ]
  },
  {
   "cell_type": "markdown",
   "metadata": {},
   "source": [
    "* term-frequency\n",
    "\n",
    "$tf = \\frac{n_t}{\\sum{n_k}}$\n",
    "\n",
    "$n_t$ - число вхождений слова t в документ\n",
    "\n",
    "$\\sum{n_k}$ - общее число слов в данном документе\n",
    "\n",
    "* inverse document frequency\n",
    "\n",
    "$idf = log \\frac{|D|}{|d_i : t \\in d_i|}$ \n",
    "\n",
    "$|D|$ - число документов в коллекции\n",
    "\n",
    "$|d_i : t \\in d_i|$ - число документов из коллекции D, в которых встречается t"
   ]
  },
  {
   "cell_type": "markdown",
   "metadata": {},
   "source": [
    "text[0] - QueryId\n",
    "\n",
    "text[1] - queries text\n",
    "\n",
    "docs_list = [[doc_id1, term_freq1], [doc_id2, term_freq2], ...]"
   ]
  },
  {
   "cell_type": "code",
   "execution_count": 35,
   "metadata": {},
   "outputs": [],
   "source": [
    "stemmer = SnowballStemmer(\"russian\") \n",
    "\n",
    "def get_prediction(query_row):\n",
    "    query_id, text = query_row\n",
    "    # text[0] - query_id, text[1] - query\n",
    "    rows_df = samples.loc[samples['QueryId'] == text[0]]\n",
    "    D = rows_df.shape[0]\n",
    "    res = []\n",
    "    for row in rows_df.iterrows():\n",
    "        doc_id = row[1]['DocumentId']\n",
    "        res.append(create_index(doc_id))\n",
    "    # unite  indexes\n",
    "    index = {}\n",
    "    for i in res:\n",
    "        for key, value in i.items():\n",
    "            if key in index:\n",
    "                index[key] += value\n",
    "                \n",
    "            else:\n",
    "                index[key] = value\n",
    "    words = text[1].split()\n",
    "    words = [w.lower().strip() for w in words]\n",
    "    words = [w for w in words if not w in stop_words]\n",
    "    add = []\n",
    "    for word in words:\n",
    "        if word in synonims:\n",
    "            add += synonims[word]\n",
    "    words += add\n",
    "    words = [stemmer.stem(word) for word in words]\n",
    "    words_info = [] # list of lists with docs numbers and number of word entries\n",
    "    \n",
    "    for i in range(len(words)):\n",
    "        word = words[i]\n",
    "        if word in index.keys():\n",
    "            words_info.append(index[word])\n",
    "        else:\n",
    "            words_info.append([])\n",
    "    # id of all docs which contain one of query's word\n",
    "    all_docs = list(set([doc_info[0] for word_info in words_info \n",
    "                         for doc_info in word_info]))\n",
    "    # word's counter for each document\n",
    "    docs_cnt = {el:0 for el in all_docs}\n",
    "    \n",
    "    # computing sum tf-idf for each document\n",
    "    for word_info in words_info:\n",
    "        if word_info:\n",
    "            idf = np.log(D / len(word_info))\n",
    "        else:\n",
    "            idf = 0\n",
    "        for doc_info in word_info: # doc_info = [doc_id, term_freq]\n",
    "            docs_cnt[doc_info[0]] += doc_info[1] * idf\n",
    "    # sort docs by it's frequency for query's words\n",
    "    docs_cnt = [item for item in docs_cnt.items()]\n",
    "    docs_cnt = sorted(docs_cnt, key=lambda x: x[1], reverse=True) # [(doc_id1, freq1), (doc_id2, freq2), ...]\n",
    "    doc_list = []\n",
    "    i = 0\n",
    "    for item in docs_cnt: # item[0] = doc_id\n",
    "        doc_list.append(item[0])\n",
    "        i += 1\n",
    "        if i == 10:\n",
    "            break\n",
    "    return (text[0], doc_list)\n",
    "    "
   ]
  },
  {
   "cell_type": "code",
   "execution_count": 36,
   "metadata": {
    "scrolled": true
   },
   "outputs": [
    {
     "name": "stdout",
     "output_type": "stream",
     "text": [
      "390 objects are processed..."
     ]
    }
   ],
   "source": [
    "mutex = Lock()\n",
    "n_processed = Value('i', 0)\n",
    "\n",
    "def func_wrapper(query_row):\n",
    "    result = get_prediction(query_row) \n",
    "    with mutex:\n",
    "        # в этом блоке можно безопасно менять общие объекты для процессов\n",
    "        global n_processed\n",
    "        n_processed.value += 1\n",
    "        if n_processed.value % 10 == 0:\n",
    "            print(f\"\\r{n_processed.value} objects are processed...\", end='', flush=True)\n",
    "    return result\n",
    "\n",
    "with Pool(processes=12) as pool:\n",
    "    result = pool.map(func_wrapper, queries.iterrows())"
   ]
  },
  {
   "cell_type": "code",
   "execution_count": 37,
   "metadata": {},
   "outputs": [
    {
     "data": {
      "text/plain": [
       "[(1, [57, 28, 14, 17, 22, 13, 73, 85, 7, 60]),\n",
       " (2, [149, 131, 152, 100, 157, 183, 133, 116, 109, 127]),\n",
       " (3, [198, 298, 275, 223, 289, 272, 225, 292, 262, 286]),\n",
       " (4, [400, 334, 346, 362, 393, 322, 304, 338, 327, 377]),\n",
       " (5, [487, 455, 451, 444, 485, 436, 489, 461, 464, 465])]"
      ]
     },
     "execution_count": 37,
     "metadata": {},
     "output_type": "execute_result"
    }
   ],
   "source": [
    "result = sorted(result, key=lambda x: x[0])\n",
    "result[:5]"
   ]
  },
  {
   "cell_type": "code",
   "execution_count": 38,
   "metadata": {},
   "outputs": [],
   "source": [
    "docsId = []\n",
    "for id, docs in result:\n",
    "    docsId += docs"
   ]
  },
  {
   "cell_type": "code",
   "execution_count": 39,
   "metadata": {},
   "outputs": [],
   "source": [
    "result_df = pd.DataFrame({\n",
    "    'QueryId' : QueryId,\n",
    "    'DocumentId' : docsId\n",
    "})"
   ]
  },
  {
   "cell_type": "code",
   "execution_count": 40,
   "metadata": {},
   "outputs": [
    {
     "data": {
      "text/html": [
       "<div>\n",
       "<style scoped>\n",
       "    .dataframe tbody tr th:only-of-type {\n",
       "        vertical-align: middle;\n",
       "    }\n",
       "\n",
       "    .dataframe tbody tr th {\n",
       "        vertical-align: top;\n",
       "    }\n",
       "\n",
       "    .dataframe thead th {\n",
       "        text-align: right;\n",
       "    }\n",
       "</style>\n",
       "<table border=\"1\" class=\"dataframe\">\n",
       "  <thead>\n",
       "    <tr style=\"text-align: right;\">\n",
       "      <th></th>\n",
       "      <th>QueryId</th>\n",
       "      <th>DocumentId</th>\n",
       "    </tr>\n",
       "  </thead>\n",
       "  <tbody>\n",
       "    <tr>\n",
       "      <th>0</th>\n",
       "      <td>1</td>\n",
       "      <td>57</td>\n",
       "    </tr>\n",
       "    <tr>\n",
       "      <th>1</th>\n",
       "      <td>1</td>\n",
       "      <td>28</td>\n",
       "    </tr>\n",
       "    <tr>\n",
       "      <th>2</th>\n",
       "      <td>1</td>\n",
       "      <td>14</td>\n",
       "    </tr>\n",
       "    <tr>\n",
       "      <th>3</th>\n",
       "      <td>1</td>\n",
       "      <td>17</td>\n",
       "    </tr>\n",
       "    <tr>\n",
       "      <th>4</th>\n",
       "      <td>1</td>\n",
       "      <td>22</td>\n",
       "    </tr>\n",
       "  </tbody>\n",
       "</table>\n",
       "</div>"
      ],
      "text/plain": [
       "   QueryId  DocumentId\n",
       "0        1          57\n",
       "1        1          28\n",
       "2        1          14\n",
       "3        1          17\n",
       "4        1          22"
      ]
     },
     "execution_count": 40,
     "metadata": {},
     "output_type": "execute_result"
    }
   ],
   "source": [
    "result_df.head()"
   ]
  },
  {
   "cell_type": "code",
   "execution_count": 41,
   "metadata": {},
   "outputs": [],
   "source": [
    "result_df.to_csv('result.txt', index=False)"
   ]
  },
  {
   "cell_type": "code",
   "execution_count": null,
   "metadata": {},
   "outputs": [],
   "source": []
  }
 ],
 "metadata": {
  "kernelspec": {
   "display_name": "Python 3",
   "language": "python",
   "name": "python3"
  },
  "language_info": {
   "codemirror_mode": {
    "name": "ipython",
    "version": 3
   },
   "file_extension": ".py",
   "mimetype": "text/x-python",
   "name": "python",
   "nbconvert_exporter": "python",
   "pygments_lexer": "ipython3",
   "version": "3.7.7"
  }
 },
 "nbformat": 4,
 "nbformat_minor": 4
}
