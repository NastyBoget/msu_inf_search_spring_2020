{
 "cells": [
  {
   "cell_type": "code",
   "execution_count": 1,
   "metadata": {},
   "outputs": [],
   "source": [
    "import pandas as pd\n",
    "from bs4 import BeautifulSoup\n",
    "import bs4\n",
    "from multiprocessing import Pool, Lock, Value\n",
    "from time import sleep\n",
    "from xgboost import XGBClassifier\n",
    "from sklearn.model_selection import cross_validate\n",
    "import base64\n",
    "import numpy as np\n",
    "import zlib"
   ]
  },
  {
   "cell_type": "code",
   "execution_count": 2,
   "metadata": {},
   "outputs": [],
   "source": [
    "df = pd.read_csv('data/kaggle_train_data_tab_new.csv', sep='\\t')"
   ]
  },
  {
   "cell_type": "code",
   "execution_count": 25,
   "metadata": {},
   "outputs": [],
   "source": [
    "def extract_features(html_page):\n",
    "    html = base64.b64decode(html_page)\n",
    "    soup = BeautifulSoup(html)\n",
    "    compressibility = len(html) / len(zlib.compress(html))\n",
    "    anchor_words = 0\n",
    "    if soup.title:\n",
    "        title_words_cnt = len(soup.title.text.split())\n",
    "    else:\n",
    "        title_words_cnt = 0\n",
    "    if soup.text:\n",
    "        text_list = soup.text.split()\n",
    "        words_cnt = len(text_list)\n",
    "        if text_list:\n",
    "            mean_word_length = np.mean(list(map(len, text_list)))\n",
    "        else: \n",
    "            mean_word_length = 0\n",
    "    else:\n",
    "        words_cnt = 0\n",
    "        mean_word_length = 0\n",
    "    link_cnt = len(soup.find_all('link'))\n",
    "    img_cnt = len(soup.find_all('img'))\n",
    "    anchors = soup.find_all('a')\n",
    "    if anchors:\n",
    "        for item in anchors:\n",
    "            anchor_words += len(item.text.split())\n",
    "    else:\n",
    "        anchor_words = 0\n",
    "    anchor_cnt = len(anchors)\n",
    "    return [title_words_cnt, words_cnt, mean_word_length, link_cnt, img_cnt,\n",
    "            anchor_cnt, anchor_words, compressibility]"
   ]
  },
  {
   "cell_type": "code",
   "execution_count": 19,
   "metadata": {},
   "outputs": [],
   "source": [
    "html = base64.b64decode(df['PageBase64'].values[1])\n",
    "soup = BeautifulSoup(html)"
   ]
  },
  {
   "cell_type": "code",
   "execution_count": 21,
   "metadata": {},
   "outputs": [
    {
     "data": {
      "text/plain": [
       "[<style>\n",
       " #domain-discovery {\n",
       " \tbackground: url('http://www.uz.ru/wp-content/plugins/domain-name-search/img/domain-tool-bg/bg-red.jpg') no-repeat 0 0;\n",
       " }\n",
       "                     </style>,\n",
       " <style type=\"text/css\">\n",
       " #chatoutput { \n",
       " \tborder: 1px solid #0066CC; \n",
       " \tcolor: #333333;\n",
       " \tbackground: #FFFFFF;\n",
       " }\n",
       " #chatoutput span { \n",
       " \tcolor: #0066CC;\n",
       " }\n",
       " #chatoutput li a { \n",
       " \tcolor: #0066CC;\n",
       " }\n",
       " #chatoutput li span a {\n",
       " \tborder-bottom: 1px dotted #0066CC;\n",
       " }\n",
       " #chatoutput ul#outputList li {\n",
       " \tcolor: #333333;\n",
       " \tmin-height: 32px;\n",
       " }\n",
       " #lastMessage {\n",
       " \tborder-bottom: 2px dotted #888888;\n",
       " }\n",
       " #usersOnline {\n",
       " \tcolor: #0066CC; \n",
       " }\n",
       " tr.bg td {\n",
       " \tborder-bottom: 1px dashed #888888;\n",
       " }\n",
       " tr.bg:hover td, tr.bg:hover td a {\n",
       " \t background: #0066CC;\n",
       " \t color: #FFFFFF;\n",
       " }\n",
       " </style>,\n",
       " <style type=\"text/css\">.recentcomments a{display:inline !important;padding:0 !important;margin:0 !important;}</style>]"
      ]
     },
     "execution_count": 21,
     "metadata": {},
     "output_type": "execute_result"
    }
   ],
   "source": [
    "soup.find_all('style') # script, css"
   ]
  },
  {
   "cell_type": "code",
   "execution_count": 26,
   "metadata": {},
   "outputs": [
    {
     "name": "stdout",
     "output_type": "stream",
     "text": [
      "7040 objects are processed..."
     ]
    }
   ],
   "source": [
    "mutex = Lock()\n",
    "n_processed = Value('i', 0)\n",
    "\n",
    "def func_wrapper(page):\n",
    "    res = extract_features(page) \n",
    "    with mutex:\n",
    "        # в этом блоке можно безопасно менять общие объекты для процессов\n",
    "        global n_processed\n",
    "        n_processed.value += 1\n",
    "        if n_processed.value % 10 == 0:\n",
    "            print(f\"\\r{n_processed.value} objects are processed...\", end='', flush=True)\n",
    "    return res\n",
    "\n",
    "with Pool(processes=10) as pool:\n",
    "    res = pool.map(func_wrapper, df['PageBase64'].values)\n"
   ]
  },
  {
   "cell_type": "code",
   "execution_count": 27,
   "metadata": {},
   "outputs": [],
   "source": [
    "X_train = np.array(res)\n",
    "y_train = df['Prediction'].values"
   ]
  },
  {
   "cell_type": "code",
   "execution_count": 28,
   "metadata": {},
   "outputs": [],
   "source": [
    "clf = XGBClassifier()\n",
    "scores = cross_validate(clf, X_train, y_train, cv=3, scoring='f1')"
   ]
  },
  {
   "cell_type": "code",
   "execution_count": 29,
   "metadata": {},
   "outputs": [
    {
     "data": {
      "text/plain": [
       "0.8892594554433643"
      ]
     },
     "execution_count": 29,
     "metadata": {},
     "output_type": "execute_result"
    }
   ],
   "source": [
    "scores['test_score'].mean()"
   ]
  },
  {
   "cell_type": "code",
   "execution_count": null,
   "metadata": {},
   "outputs": [],
   "source": [
    "clf = XGBClassifier()\n",
    "clf.fit(X_train, y_train)\n",
    "\n",
    "df_test = pd.read_csv('data/kaggle_test_data_tab_new.csv', sep='\\t')\n",
    "\n",
    "with Pool(processes=10) as pool:\n",
    "    res = pool.map(func_wrapper, df_test['PageBase64'].values)\n",
    "X_test = np.array(res)\n",
    "y_pred = clf.predict(X_test)"
   ]
  },
  {
   "cell_type": "code",
   "execution_count": null,
   "metadata": {},
   "outputs": [],
   "source": [
    "df_pred = pd.DataFrame({\n",
    "    'Id': df_test['Id'].values,\n",
    "    'Prediction': y_pred\n",
    "})\n",
    "df_pred.to_csv('my_submission.csv', index=False) \n"
   ]
  },
  {
   "cell_type": "code",
   "execution_count": null,
   "metadata": {},
   "outputs": [],
   "source": []
  }
 ],
 "metadata": {
  "kernelspec": {
   "display_name": "Python 3",
   "language": "python",
   "name": "python3"
  },
  "language_info": {
   "codemirror_mode": {
    "name": "ipython",
    "version": 3
   },
   "file_extension": ".py",
   "mimetype": "text/x-python",
   "name": "python",
   "nbconvert_exporter": "python",
   "pygments_lexer": "ipython3",
   "version": "3.7.6"
  }
 },
 "nbformat": 4,
 "nbformat_minor": 4
}
