{
 "cells": [
  {
   "cell_type": "code",
   "execution_count": 1,
   "metadata": {},
   "outputs": [],
   "source": [
    "import pandas as pd\n",
    "from bs4 import BeautifulSoup\n",
    "import bs4\n",
    "from multiprocessing import Pool, Lock, Value\n",
    "from time import sleep\n",
    "from xgboost import XGBClassifier\n",
    "from sklearn.model_selection import cross_validate\n",
    "import base64\n",
    "import numpy as np\n",
    "import zlib\n",
    "from itertools import product\n",
    "import re"
   ]
  },
  {
   "cell_type": "code",
   "execution_count": 2,
   "metadata": {},
   "outputs": [],
   "source": [
    "df = pd.read_csv('data/kaggle_train_data_tab_new.csv', sep='\\t')"
   ]
  },
  {
   "cell_type": "code",
   "execution_count": 3,
   "metadata": {},
   "outputs": [],
   "source": [
    "def clean_text(text):\n",
    "    text = text.lower()\n",
    "    text = re.sub('[^а-яёА-ЯЁ\\w]+', ' ', text)\n",
    "    text = re.sub('\\s+', ' ', text)\n",
    "    return text"
   ]
  },
  {
   "cell_type": "code",
   "execution_count": 4,
   "metadata": {},
   "outputs": [],
   "source": [
    "def extract_features(html_page):\n",
    "    html = base64.b64decode(html_page)\n",
    "    soup = BeautifulSoup(html)\n",
    "    compressibility = len(html) / len(zlib.compress(html))\n",
    "    anchor_words = 0\n",
    "    if soup.title:\n",
    "        title_words_cnt = len(soup.title.text.split())\n",
    "    else:\n",
    "        title_words_cnt = 0\n",
    "    if soup.text:\n",
    "        text = soup.text\n",
    "        words_cnt = len(text.split())\n",
    "        if text.split():\n",
    "            cl_text = clean_text(text)\n",
    "            clean_words_cnt = len(cl_text.split())\n",
    "            mean_word_length = np.mean(list(map(len, text.split())))\n",
    "            mean_clean_word_length = np.mean(list(map(len, cl_text.split())))\n",
    "        else: \n",
    "            clean_words_cnt = 0\n",
    "            mean_word_length = 0\n",
    "            mean_clean_word_length = 0\n",
    "    else:\n",
    "        words_cnt = 0\n",
    "        mean_word_length = 0\n",
    "        clean_words_cnt = 0\n",
    "        mean_clean_word_length = 0\n",
    "    link_cnt = len(soup.find_all('link'))\n",
    "    img_cnt = len(soup.find_all('img'))\n",
    "    style_cnt = len(soup.find_all('style'))\n",
    "    style_length = len(str(soup.find_all('style')))\n",
    "    script_cnt = len(soup.find_all('script'))\n",
    "    script_length = len(str(soup.find_all('script')))\n",
    "    if soup.head:\n",
    "        head_length = len(soup.head.text)\n",
    "    else:\n",
    "        head_length = 0\n",
    "    anchors = soup.find_all('a')\n",
    "    if anchors:\n",
    "        for item in anchors:\n",
    "            anchor_words += len(item.text.split())\n",
    "    else:\n",
    "        anchor_words = 0\n",
    "    anchor_cnt = len(anchors)\n",
    "    return [title_words_cnt, words_cnt, clean_words_cnt,\n",
    "            mean_word_length, mean_clean_word_length, link_cnt, img_cnt,\n",
    "            style_cnt, style_length, script_cnt, script_length, head_length,\n",
    "            anchor_cnt, anchor_words, compressibility]"
   ]
  },
  {
   "cell_type": "code",
   "execution_count": 5,
   "metadata": {},
   "outputs": [
    {
     "name": "stdout",
     "output_type": "stream",
     "text": [
      "4660 objects are processed..."
     ]
    },
    {
     "name": "stderr",
     "output_type": "stream",
     "text": [
      "/Users/anastasiabogatenkova/miniconda3/envs/sphere/lib/python3.7/site-packages/numpy/core/fromnumeric.py:3335: RuntimeWarning: Mean of empty slice.\n",
      "  out=out, **kwargs)\n",
      "/Users/anastasiabogatenkova/miniconda3/envs/sphere/lib/python3.7/site-packages/numpy/core/_methods.py:161: RuntimeWarning: invalid value encountered in double_scalars\n",
      "  ret = ret.dtype.type(ret / rcount)\n"
     ]
    },
    {
     "name": "stdout",
     "output_type": "stream",
     "text": [
      "6790 objects are processed..."
     ]
    },
    {
     "name": "stderr",
     "output_type": "stream",
     "text": [
      "/Users/anastasiabogatenkova/miniconda3/envs/sphere/lib/python3.7/site-packages/numpy/core/fromnumeric.py:3335: RuntimeWarning: Mean of empty slice.\n",
      "  out=out, **kwargs)\n",
      "/Users/anastasiabogatenkova/miniconda3/envs/sphere/lib/python3.7/site-packages/numpy/core/_methods.py:161: RuntimeWarning: invalid value encountered in double_scalars\n",
      "  ret = ret.dtype.type(ret / rcount)\n"
     ]
    },
    {
     "name": "stdout",
     "output_type": "stream",
     "text": [
      "7040 objects are processed..."
     ]
    }
   ],
   "source": [
    "mutex = Lock()\n",
    "n_processed = Value('i', 0)\n",
    "\n",
    "def func_wrapper(page):\n",
    "    res = extract_features(page) \n",
    "    with mutex:\n",
    "        # в этом блоке можно безопасно менять общие объекты для процессов\n",
    "        global n_processed\n",
    "        n_processed.value += 1\n",
    "        if n_processed.value % 10 == 0:\n",
    "            print(f\"\\r{n_processed.value} objects are processed...\", end='', flush=True)\n",
    "    return res\n",
    "\n",
    "with Pool(processes=10) as pool:\n",
    "    res = pool.map(func_wrapper, df['PageBase64'].values)\n"
   ]
  },
  {
   "cell_type": "code",
   "execution_count": 6,
   "metadata": {},
   "outputs": [],
   "source": [
    "X_train = np.array(res)\n",
    "y_train = df['Prediction'].values"
   ]
  },
  {
   "cell_type": "code",
   "execution_count": 7,
   "metadata": {},
   "outputs": [],
   "source": [
    "# params = product(\n",
    "#     (400, 600, 800, 1000, 1200), # n_estimators\n",
    "#     (0.01, 0.1, 0.2, 0.3), # learning_rate\n",
    "#     (3, 6, 9), # max_depth\n",
    "# )\n",
    "# res_score = 0\n",
    "\n",
    "# for n_estimators, learning_rate, max_depth in list(params):\n",
    "#     clf = XGBClassifier(n_estimators=n_estimators, learning_rate=learning_rate,\n",
    "#                         max_depth=max_depth, nthread=4)\n",
    "#     res = cross_validate(clf, X_train, y_train, cv=3, scoring='f1')\n",
    "#     score = res['test_score'].mean()\n",
    "#     print(score)\n",
    "#     print(clf)\n",
    "#     if score > res_score:\n",
    "#         res_score = score\n",
    "#         res_model = clf\n",
    "        \n",
    "# res_model, res_score"
   ]
  },
  {
   "cell_type": "code",
   "execution_count": 9,
   "metadata": {},
   "outputs": [
    {
     "data": {
      "text/plain": [
       "0.9209589510135681"
      ]
     },
     "execution_count": 9,
     "metadata": {},
     "output_type": "execute_result"
    }
   ],
   "source": [
    "clf = XGBClassifier(learning_rate=0.01, max_depth=9,\n",
    "                    n_estimators=1200, nthread=4)\n",
    "scores = cross_validate(clf, X_train, y_train, cv=3, scoring='f1')\n",
    "scores['test_score'].mean()"
   ]
  },
  {
   "cell_type": "code",
   "execution_count": 11,
   "metadata": {},
   "outputs": [
    {
     "name": "stdout",
     "output_type": "stream",
     "text": [
      "12610 objects are processed..."
     ]
    },
    {
     "name": "stderr",
     "output_type": "stream",
     "text": [
      "/Users/anastasiabogatenkova/miniconda3/envs/sphere/lib/python3.7/site-packages/numpy/core/fromnumeric.py:3335: RuntimeWarning: Mean of empty slice.\n",
      "  out=out, **kwargs)\n",
      "/Users/anastasiabogatenkova/miniconda3/envs/sphere/lib/python3.7/site-packages/numpy/core/_methods.py:161: RuntimeWarning: invalid value encountered in double_scalars\n",
      "  ret = ret.dtype.type(ret / rcount)\n"
     ]
    },
    {
     "name": "stdout",
     "output_type": "stream",
     "text": [
      "14320 objects are processed..."
     ]
    },
    {
     "name": "stderr",
     "output_type": "stream",
     "text": [
      "/Users/anastasiabogatenkova/miniconda3/envs/sphere/lib/python3.7/site-packages/numpy/core/fromnumeric.py:3335: RuntimeWarning: Mean of empty slice.\n",
      "  out=out, **kwargs)\n",
      "/Users/anastasiabogatenkova/miniconda3/envs/sphere/lib/python3.7/site-packages/numpy/core/_methods.py:161: RuntimeWarning: invalid value encountered in double_scalars\n",
      "  ret = ret.dtype.type(ret / rcount)\n"
     ]
    },
    {
     "name": "stdout",
     "output_type": "stream",
     "text": [
      "19170 objects are processed..."
     ]
    },
    {
     "name": "stderr",
     "output_type": "stream",
     "text": [
      "/Users/anastasiabogatenkova/miniconda3/envs/sphere/lib/python3.7/site-packages/numpy/core/fromnumeric.py:3335: RuntimeWarning: Mean of empty slice.\n",
      "  out=out, **kwargs)\n",
      "/Users/anastasiabogatenkova/miniconda3/envs/sphere/lib/python3.7/site-packages/numpy/core/_methods.py:161: RuntimeWarning: invalid value encountered in double_scalars\n",
      "  ret = ret.dtype.type(ret / rcount)\n"
     ]
    },
    {
     "name": "stdout",
     "output_type": "stream",
     "text": [
      "19300 objects are processed..."
     ]
    },
    {
     "name": "stderr",
     "output_type": "stream",
     "text": [
      "/Users/anastasiabogatenkova/miniconda3/envs/sphere/lib/python3.7/site-packages/numpy/core/fromnumeric.py:3335: RuntimeWarning: Mean of empty slice.\n",
      "  out=out, **kwargs)\n",
      "/Users/anastasiabogatenkova/miniconda3/envs/sphere/lib/python3.7/site-packages/numpy/core/_methods.py:161: RuntimeWarning: invalid value encountered in double_scalars\n",
      "  ret = ret.dtype.type(ret / rcount)\n"
     ]
    },
    {
     "name": "stdout",
     "output_type": "stream",
     "text": [
      "21930 objects are processed..."
     ]
    },
    {
     "name": "stderr",
     "output_type": "stream",
     "text": [
      "/Users/anastasiabogatenkova/miniconda3/envs/sphere/lib/python3.7/site-packages/numpy/core/fromnumeric.py:3335: RuntimeWarning: Mean of empty slice.\n",
      "  out=out, **kwargs)\n",
      "/Users/anastasiabogatenkova/miniconda3/envs/sphere/lib/python3.7/site-packages/numpy/core/_methods.py:161: RuntimeWarning: invalid value encountered in double_scalars\n",
      "  ret = ret.dtype.type(ret / rcount)\n"
     ]
    },
    {
     "name": "stdout",
     "output_type": "stream",
     "text": [
      "23080 objects are processed..."
     ]
    }
   ],
   "source": [
    "# clf = res_model\n",
    "clf = XGBClassifier(learning_rate=0.01, max_depth=9,\n",
    "                    n_estimators=1200, nthread=4)\n",
    "\n",
    "clf.fit(X_train, y_train)\n",
    "\n",
    "df_test = pd.read_csv('data/kaggle_test_data_tab_new.csv', sep='\\t')\n",
    "\n",
    "with Pool(processes=10) as pool:\n",
    "    res = pool.map(func_wrapper, df_test['PageBase64'].values)\n",
    "X_test = np.array(res)\n",
    "y_pred = clf.predict(X_test)"
   ]
  },
  {
   "cell_type": "code",
   "execution_count": 12,
   "metadata": {},
   "outputs": [],
   "source": [
    "df_pred = pd.DataFrame({\n",
    "    'Id': df_test['Id'].values,\n",
    "    'Prediction': y_pred\n",
    "})\n",
    "df_pred.to_csv('my_submission.csv', index=False) \n"
   ]
  },
  {
   "cell_type": "code",
   "execution_count": null,
   "metadata": {},
   "outputs": [],
   "source": []
  }
 ],
 "metadata": {
  "kernelspec": {
   "display_name": "Python 3",
   "language": "python",
   "name": "python3"
  },
  "language_info": {
   "codemirror_mode": {
    "name": "ipython",
    "version": 3
   },
   "file_extension": ".py",
   "mimetype": "text/x-python",
   "name": "python",
   "nbconvert_exporter": "python",
   "pygments_lexer": "ipython3",
   "version": "3.7.6"
  }
 },
 "nbformat": 4,
 "nbformat_minor": 4
}
