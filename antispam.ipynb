{
 "cells": [
  {
   "cell_type": "code",
   "execution_count": 66,
   "metadata": {},
   "outputs": [],
   "source": [
    "import pandas as pd\n",
    "from bs4 import BeautifulSoup\n",
    "import bs4\n",
    "from multiprocessing import Pool, Lock, Value\n",
    "from time import sleep\n",
    "from sklearn.metrics import f1_score\n",
    "from xgboost import XGBClassifier\n",
    "from sklearn.model_selection import cross_validate\n",
    "import base64\n",
    "import numpy as np"
   ]
  },
  {
   "cell_type": "code",
   "execution_count": 11,
   "metadata": {},
   "outputs": [],
   "source": [
    "df = pd.read_csv('data/kaggle_train_data_tab_new.csv', sep='\\t')"
   ]
  },
  {
   "cell_type": "code",
   "execution_count": 12,
   "metadata": {},
   "outputs": [
    {
     "data": {
      "text/html": [
       "<div>\n",
       "<style scoped>\n",
       "    .dataframe tbody tr th:only-of-type {\n",
       "        vertical-align: middle;\n",
       "    }\n",
       "\n",
       "    .dataframe tbody tr th {\n",
       "        vertical-align: top;\n",
       "    }\n",
       "\n",
       "    .dataframe thead th {\n",
       "        text-align: right;\n",
       "    }\n",
       "</style>\n",
       "<table border=\"1\" class=\"dataframe\">\n",
       "  <thead>\n",
       "    <tr style=\"text-align: right;\">\n",
       "      <th></th>\n",
       "      <th>Id</th>\n",
       "      <th>Prediction</th>\n",
       "      <th>Url</th>\n",
       "      <th>PageBase64</th>\n",
       "    </tr>\n",
       "  </thead>\n",
       "  <tbody>\n",
       "    <tr>\n",
       "      <th>0</th>\n",
       "      <td>-9222401963271173253</td>\n",
       "      <td>0</td>\n",
       "      <td>http://lawleader.ru/docs/32/</td>\n",
       "      <td>PCFET0NUWVBFIGh0bWwgUFVCTElDICItLy9XM0MvL0RURC...</td>\n",
       "    </tr>\n",
       "    <tr>\n",
       "      <th>1</th>\n",
       "      <td>-9221399504663603656</td>\n",
       "      <td>0</td>\n",
       "      <td>http://alterhost.ruwww.alterhost.ruwww.user.kz...</td>\n",
       "      <td>PCFET0NUWVBFIGh0bWwgUFVCTElDICItLy9XM0MvL0RURC...</td>\n",
       "    </tr>\n",
       "    <tr>\n",
       "      <th>2</th>\n",
       "      <td>-9219733223042265364</td>\n",
       "      <td>0</td>\n",
       "      <td>http://www.ferio.ru/c_1-acura-legend.html</td>\n",
       "      <td>PCFET0NUWVBFIEhUTUwgUFVCTElDICItLy9XM0MvL0RURC...</td>\n",
       "    </tr>\n",
       "    <tr>\n",
       "      <th>3</th>\n",
       "      <td>-9218561774155397294</td>\n",
       "      <td>0</td>\n",
       "      <td>http://fshops.otzyv.ru/read.php?id=277</td>\n",
       "      <td>PCFET0NUWVBFIEhUTUwgUFVCTElDICItLy9XM0MvL0RURC...</td>\n",
       "    </tr>\n",
       "    <tr>\n",
       "      <th>4</th>\n",
       "      <td>-9216163564171210203</td>\n",
       "      <td>1</td>\n",
       "      <td>http://penhea895.narod.ru/familiya-shushmarche...</td>\n",
       "      <td>PCFET0NUWVBFIGh0bWwgUFVCTElDICItLy9XM0MvL0RURC...</td>\n",
       "    </tr>\n",
       "  </tbody>\n",
       "</table>\n",
       "</div>"
      ],
      "text/plain": [
       "                    Id  Prediction  \\\n",
       "0 -9222401963271173253           0   \n",
       "1 -9221399504663603656           0   \n",
       "2 -9219733223042265364           0   \n",
       "3 -9218561774155397294           0   \n",
       "4 -9216163564171210203           1   \n",
       "\n",
       "                                                 Url  \\\n",
       "0                       http://lawleader.ru/docs/32/   \n",
       "1  http://alterhost.ruwww.alterhost.ruwww.user.kz...   \n",
       "2          http://www.ferio.ru/c_1-acura-legend.html   \n",
       "3             http://fshops.otzyv.ru/read.php?id=277   \n",
       "4  http://penhea895.narod.ru/familiya-shushmarche...   \n",
       "\n",
       "                                          PageBase64  \n",
       "0  PCFET0NUWVBFIGh0bWwgUFVCTElDICItLy9XM0MvL0RURC...  \n",
       "1  PCFET0NUWVBFIGh0bWwgUFVCTElDICItLy9XM0MvL0RURC...  \n",
       "2  PCFET0NUWVBFIEhUTUwgUFVCTElDICItLy9XM0MvL0RURC...  \n",
       "3  PCFET0NUWVBFIEhUTUwgUFVCTElDICItLy9XM0MvL0RURC...  \n",
       "4  PCFET0NUWVBFIGh0bWwgUFVCTElDICItLy9XM0MvL0RURC...  "
      ]
     },
     "execution_count": 12,
     "metadata": {},
     "output_type": "execute_result"
    }
   ],
   "source": [
    "df.head()"
   ]
  },
  {
   "cell_type": "code",
   "execution_count": 101,
   "metadata": {},
   "outputs": [],
   "source": [
    "def extract_features(html_page):\n",
    "    html = base64.b64decode(html_page)\n",
    "    soup = BeautifulSoup(html)\n",
    "    anchor_words = 0\n",
    "    if soup.title:\n",
    "        title_words_cnt = len(soup.title.text.split())\n",
    "    else:\n",
    "        title_words_cnt = 0\n",
    "    if soup.text:\n",
    "        text_list = soup.text.split()\n",
    "        words_cnt = len(text_list)\n",
    "        mean_word_length = np.mean(list(map(len, text_list)))\n",
    "    else:\n",
    "        words_cnt = 0\n",
    "        mean_word_length = 0\n",
    "    link_cnt = len(soup.find_all('link'))\n",
    "    for item in soup.find_all('a'):\n",
    "        anchor_words += len(item.text.split())\n",
    "    \n",
    "    return [title_words_cnt, words_cnt, mean_word_length, link_cnt, anchor_words]"
   ]
  },
  {
   "cell_type": "code",
   "execution_count": 87,
   "metadata": {},
   "outputs": [],
   "source": [
    "html = base64.b64decode(df['PageBase64'].values[0])\n",
    "soup = BeautifulSoup(html)"
   ]
  },
  {
   "cell_type": "code",
   "execution_count": 100,
   "metadata": {},
   "outputs": [
    {
     "data": {
      "text/plain": [
       "161"
      ]
     },
     "execution_count": 100,
     "metadata": {},
     "output_type": "execute_result"
    }
   ],
   "source": [
    "anchor_words = 0\n",
    "for item in soup.find_all('a'):\n",
    "    anchor_words += len(item.text.split())\n",
    "anchor_words"
   ]
  },
  {
   "cell_type": "code",
   "execution_count": 102,
   "metadata": {},
   "outputs": [
    {
     "name": "stdout",
     "output_type": "stream",
     "text": [
      "3060 objects are processed..."
     ]
    },
    {
     "name": "stderr",
     "output_type": "stream",
     "text": [
      "Some characters could not be decoded, and were replaced with REPLACEMENT CHARACTER.\n"
     ]
    },
    {
     "name": "stdout",
     "output_type": "stream",
     "text": [
      "7040 objects are processed..."
     ]
    }
   ],
   "source": [
    "mutex = Lock()\n",
    "n_processed = Value('i', 0)\n",
    "\n",
    "def func_wrapper(page):\n",
    "    res = extract_features(page) \n",
    "    with mutex:\n",
    "        # в этом блоке можно безопасно менять общие объекты для процессов\n",
    "        global n_processed\n",
    "        n_processed.value += 1\n",
    "        if n_processed.value % 10 == 0:\n",
    "            print(f\"\\r{n_processed.value} objects are processed...\", end='', flush=True)\n",
    "    return res\n",
    "\n",
    "with Pool(processes=10) as pool:\n",
    "    res = pool.map(func_wrapper, df['PageBase64'].values)\n"
   ]
  },
  {
   "cell_type": "code",
   "execution_count": 103,
   "metadata": {},
   "outputs": [],
   "source": [
    "X_train = np.array(res)\n",
    "y_train = df['Prediction'].values"
   ]
  },
  {
   "cell_type": "code",
   "execution_count": 104,
   "metadata": {},
   "outputs": [],
   "source": [
    "clf = XGBClassifier()\n",
    "scores = cross_validate(clf, X_train, y_train, cv=3, scoring='f1')"
   ]
  },
  {
   "cell_type": "code",
   "execution_count": 105,
   "metadata": {},
   "outputs": [
    {
     "data": {
      "text/plain": [
       "0.8829770366552339"
      ]
     },
     "execution_count": 105,
     "metadata": {},
     "output_type": "execute_result"
    }
   ],
   "source": [
    "scores['test_score'].mean()"
   ]
  },
  {
   "cell_type": "code",
   "execution_count": null,
   "metadata": {},
   "outputs": [],
   "source": []
  }
 ],
 "metadata": {
  "kernelspec": {
   "display_name": "Python 3",
   "language": "python",
   "name": "python3"
  },
  "language_info": {
   "codemirror_mode": {
    "name": "ipython",
    "version": 3
   },
   "file_extension": ".py",
   "mimetype": "text/x-python",
   "name": "python",
   "nbconvert_exporter": "python",
   "pygments_lexer": "ipython3",
   "version": "3.7.6"
  }
 },
 "nbformat": 4,
 "nbformat_minor": 4
}
